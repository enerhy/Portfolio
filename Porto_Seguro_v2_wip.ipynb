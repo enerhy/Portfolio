{
  "nbformat": 4,
  "nbformat_minor": 0,
  "metadata": {
    "colab": {
      "name": "Porto_Seguro_v2_wip.ipynb",
      "provenance": [],
      "collapsed_sections": [],
      "authorship_tag": "ABX9TyNpP4uA9QDEIQ6yW6AAA+TP",
      "include_colab_link": true
    },
    "kernelspec": {
      "name": "python3",
      "display_name": "Python 3"
    },
    "accelerator": "GPU"
  },
  "cells": [
    {
      "cell_type": "markdown",
      "metadata": {
        "id": "view-in-github",
        "colab_type": "text"
      },
      "source": [
        "<a href=\"https://colab.research.google.com/github/enerhy/Portfolio/blob/master/Porto_Seguro_v2_wip.ipynb\" target=\"_parent\"><img src=\"https://colab.research.google.com/assets/colab-badge.svg\" alt=\"Open In Colab\"/></a>"
      ]
    },
    {
      "cell_type": "markdown",
      "metadata": {
        "id": "fEer3F4I4Slg",
        "colab_type": "text"
      },
      "source": [
        "# INTRO"
      ]
    },
    {
      "cell_type": "markdown",
      "metadata": {
        "id": "9557c0KTbKAe",
        "colab_type": "text"
      },
      "source": [
        "# THEORY\n",
        "\n",
        "\n",
        "\n",
        "\n",
        "\n",
        "\n",
        "\n",
        "\n",
        "\n"
      ]
    },
    {
      "cell_type": "markdown",
      "metadata": {
        "id": "KDO3JnXoey_i",
        "colab_type": "text"
      },
      "source": [
        "## Evaluation Metrics"
      ]
    },
    {
      "cell_type": "markdown",
      "metadata": {
        "id": "C1AaFMbKenSi",
        "colab_type": "text"
      },
      "source": [
        "\n",
        "### Threshold Metrics for Imbalanced Classification\n",
        "*   **Accuracy** = Correct Predictions / Total Predictions\n",
        "*   **Error** = Incorrect Predictions / Total Predictions\n",
        "\n",
        "Usually the majority class is reffered to as negarive (Majority = 0, Minority = 1). The confusion matrix is then:\n",
        "\n",
        "```\n",
        "               | Positive Prediction | Negative Prediction\n",
        "Positive Class | True Positive (TP)  | False Negative (FN)\n",
        "Negative Class | False Positive (FP) | True Negative (TN)\n",
        "```\n",
        "There are two groups of metrics that may be useful for imbalanced classification because they focus on one class:\n",
        "*   **Sensitivity** = TruePositive / (TruePositive + FalseNegative)\n",
        "*   **Specificity** = TrueNegative / (FalsePositive + TrueNegative)\n",
        "*   **G-Mean** = sqrt(Sensitivity * Specificity)\n",
        "\n",
        "**Precision-Recall Metrics:**\n",
        "\n",
        "Precision summarizes the fraction of examples assigned the positive class that belong to the positive class.\n",
        "*   **Precision** = TruePositive / (TruePositive + FalsePositive)\n",
        "\n",
        "Recall summarizes how well the positive class was predicted and is the same calculation as sensitivity.\n",
        "*   **Recall** = TruePositive / (TruePositive + FalseNegative)\n",
        "\n",
        "Precision and recall can be combined into a single score that seeks to balance both concerns, called the F-score or the F-measure.\n",
        "\n",
        "*   **F-Measure** = (2 * Precision * Recall) / (Precision + Recall)\n",
        "*   List item\n",
        "\n",
        "*An important disadvantage of all the threshold metrics discussed in the previous section is that they assume full knowledge of the conditions under which the classifier will be deployed. In particular, they assume that the class imbalance present in the training set is the one that will be encountered throughout the operating life of the classifier*"
      ]
    },
    {
      "cell_type": "markdown",
      "metadata": {
        "id": "CBW5wBxHbQre",
        "colab_type": "text"
      },
      "source": [
        "### Ranking Metrics for Imbalanced Classification\n",
        "Rank metrics are more concerned with evaluating classifiers based on how effective they are at separating classes.\n",
        "\n",
        "These metrics require that a classifier predicts a score or a probability of class membership. From this score, different thresholds can be applied to test the effectiveness of classifiers. Those models that maintain a good score across a range of thresholds will have good class separation and will be ranked higher.\n",
        "\n",
        "### A ROC curve \n",
        "is a diagnostic plot for summarizing the behavior of a model by calculating the false positive rate and true positive rate for a set of predictions by the model under different thresholds.\n",
        "\n",
        "The true positive rate is the recall or sensitivity.\n",
        "\n",
        "*   **TruePositiveRate** = TruePositive / (TruePositive + FalseNegative)\n",
        "\n",
        "The false positive rate is calculated as:\n",
        "*   **FalsePositiveRate** = FalsePositive / (FalsePositive + TrueNegative)\n",
        "\n",
        "![ROC Curve](https://3qeqpr26caki16dnhd19sv6by6v-wpengine.netdna-ssl.com/wp-content/uploads/2019/10/Depiction-of-a-ROC-Curve.jpg)\n",
        "\n",
        "\n",
        "### Precision-Recall Curve\n",
        "This metrics focuses on the performance of the minority class. Thus it is more appropriate for imbalanced classification problems.\n",
        "\n",
        "*   **PR AUC** = Precision-Recall Area Under Curve\n",
        "\n",
        "![PR AUC CURVE](https://www.researchgate.net/profile/Davide_Chicco/publication/321672019/figure/fig1/AS:614279602511886@1523467078452/a-Example-of-Precision-Recall-curve-with-the-precision-score-on-the-y-axis-and-the.png)\n"
      ]
    },
    {
      "cell_type": "markdown",
      "metadata": {
        "id": "H6n9E6Jzu4fa",
        "colab_type": "text"
      },
      "source": [
        "### Probabilistic Metrics for Imbalanced Classification\n",
        "Probabilistic metrics are designed specifically to quantify the uncertainty in a classifier’s predictions.\n",
        "\n",
        "Metrics based on a probabilistic understanding of error, i.e. measuring the deviation from the true probability […] These measures are especially useful when we want an assessment of the reliability of the classifiers, not only measuring when they fail but whether they have selected the wrong class with a high or low probability.\n",
        "\n",
        "Evaluating a model based on the predicted probabilities requires that the probabilities are calibrated.\n",
        "\n",
        "Some classifiers are trained using a probabilistic framework, such as maximum likelihood estimation, meaning that their probabilities are already calibrated. An example would be logistic regression. Perhaps the most common metric for evaluating predicted probabilities is log loss for binary classification (or the negative log likelihood), or known more generally as **cross-entropy**.\n",
        "\n",
        "*   **BrierScore** = 1/N * Sum i to N (yhat_i – y_i)^2\n",
        "\n",
        "The benefit of the Brier score is that it is focused on the positive class, which for imbalanced classification is the minority class. This makes it more preferable than log loss, which is focused on the entire probability distribution.\n",
        "\n",
        "The Brier score is calculated as the mean squared error between the expected probabilities for the positive class (e.g. 1.0) and the predicted probabilities.\n",
        "\n",
        "The differences in Brier score for different classifiers can be very small. In order to address this problem, the score can be scaled against a reference score, such as the score from a no skill classifier (e.g. predicting the probability distribution of the positive class in the training dataset).\n",
        "\n",
        "*   **BrierSkillScore** = 1 – (BrierScore / BrierScore_ref)\n",
        "\n",
        "\n",
        "\n",
        "\n"
      ]
    },
    {
      "cell_type": "markdown",
      "metadata": {
        "id": "pIYXVtwAbRdf",
        "colab_type": "text"
      },
      "source": [
        "### How to choose an evaluation metrics\n",
        "*   Talk to the stakeholder\n",
        "*   Take a look and how the other evaluate similar problems\n",
        "*   Perform tests to observe results and see wheter it maches expectations\n",
        "\n",
        "\n",
        "---\n",
        "\n",
        "\n",
        "![alt text](https://3qeqpr26caki16dnhd19sv6by6v-wpengine.netdna-ssl.com/wp-content/uploads/2019/12/How-to-Choose-a-Metric-for-Imbalanced-Classification-latest.png)"
      ]
    },
    {
      "cell_type": "markdown",
      "metadata": {
        "id": "aM-2FdQMfi7J",
        "colab_type": "text"
      },
      "source": [
        "# Imports and Set-Up"
      ]
    },
    {
      "cell_type": "markdown",
      "metadata": {
        "id": "3iChj3pWbQkU",
        "colab_type": "text"
      },
      "source": [
        ""
      ]
    },
    {
      "cell_type": "code",
      "metadata": {
        "id": "-31j36Ar5kis",
        "colab_type": "code",
        "outputId": "56e5d330-b061-4a34-c4be-ddac590d8b7a",
        "colab": {
          "base_uri": "https://localhost:8080/",
          "height": 35
        }
      },
      "source": [
        "from google.colab import drive\n",
        "drive.mount('/content/drive')"
      ],
      "execution_count": 0,
      "outputs": [
        {
          "output_type": "stream",
          "text": [
            "Drive already mounted at /content/drive; to attempt to forcibly remount, call drive.mount(\"/content/drive\", force_remount=True).\n"
          ],
          "name": "stdout"
        }
      ]
    },
    {
      "cell_type": "code",
      "metadata": {
        "id": "tenheYJv55Ez",
        "colab_type": "code",
        "outputId": "9f5a96f0-a995-499f-9fad-21395b4db8aa",
        "colab": {
          "base_uri": "https://localhost:8080/",
          "height": 35
        }
      },
      "source": [
        "cd /content/drive/My Drive/Colab Notebooks/Insurance_porto_seguro"
      ],
      "execution_count": 0,
      "outputs": [
        {
          "output_type": "stream",
          "text": [
            "/content/drive/My Drive/Colab Notebooks/Insurance_porto_seguro\n"
          ],
          "name": "stdout"
        }
      ]
    },
    {
      "cell_type": "code",
      "metadata": {
        "id": "18eBySv36CmL",
        "colab_type": "code",
        "outputId": "063c09c3-5068-489c-b345-638e2a1290f2",
        "colab": {
          "base_uri": "https://localhost:8080/",
          "height": 141
        }
      },
      "source": [
        "!ls"
      ],
      "execution_count": 0,
      "outputs": [
        {
          "output_type": "stream",
          "text": [
            "Insurance_v1.ipynb\t\t\t StratifiedKFold_v2.csv\n",
            "Insurance_v2.ipynb\t\t\t test.csv\n",
            "nearest_miss_resampled_train.csv\t train.csv\n",
            "sample_submission.csv\t\t\t xgb_model.joblib.dat\n",
            "StratifiedKFold_cluster_resample_v1.csv  xgb_model.model\n",
            "StratifiedKFold.csv\t\t\t xgb_model.pickle.dat\n",
            "StratifiedKFold_SMOTE_resample_v1.csv\n"
          ],
          "name": "stdout"
        }
      ]
    },
    {
      "cell_type": "code",
      "metadata": {
        "id": "Eo8M-iLD6EGk",
        "colab_type": "code",
        "colab": {}
      },
      "source": [
        "import numpy as np\n",
        "import pandas as pd\n",
        "import warnings\n",
        "import matplotlib.pyplot as plt\n",
        "import seaborn as sns\n",
        "from sklearn.utils import shuffle\n",
        "from sklearn.preprocessing import StandardScaler\n",
        "from sklearn.model_selection import train_test_split\n",
        "\n",
        "from sklearn.model_selection import KFold\n",
        "from sklearn.preprocessing import LabelEncoder\n",
        "from sklearn.model_selection import cross_val_score\n",
        "\n",
        "from xgboost import XGBClassifier\n",
        "from lightgbm import LGBMClassifier\n",
        "from sklearn.linear_model import LogisticRegression\n",
        "\n",
        "import time\n",
        "\n",
        "random_state = 6\n",
        "np.random.seed(random_state)\n",
        "warnings.filterwarnings('ignore')"
      ],
      "execution_count": 0,
      "outputs": []
    },
    {
      "cell_type": "code",
      "metadata": {
        "id": "66-OfZjl-u9y",
        "colab_type": "code",
        "colab": {}
      },
      "source": [
        "%matplotlib inline"
      ],
      "execution_count": 0,
      "outputs": []
    },
    {
      "cell_type": "code",
      "metadata": {
        "id": "fA2G-9qJ-6aJ",
        "colab_type": "code",
        "colab": {}
      },
      "source": [
        "df_train = pd.read_csv('train.csv', na_values=-1)\n",
        "df_test = pd.read_csv('test.csv', na_values=-1)"
      ],
      "execution_count": 0,
      "outputs": []
    },
    {
      "cell_type": "code",
      "metadata": {
        "id": "40vmljMnC6iD",
        "colab_type": "code",
        "outputId": "5d8ad853-3516-48ed-a5f8-d7d8b8eb9303",
        "colab": {
          "base_uri": "https://localhost:8080/",
          "height": 354
        }
      },
      "source": [
        "# Check the Target Value Balance\n",
        "ax = sns.countplot(x='target', data=df_train)\n",
        "sns.set(font_scale=1.5)\n",
        "ax.set_xlabel(' ')\n",
        "ax.set_ylabel(' ')\n",
        "fig = plt.gcf()\n",
        "fig.set_size_inches(10,5)\n",
        "ax.set_ylim(top=700000)\n",
        "for p in ax.patches:\n",
        "    ax.annotate('{:.2f}%'.format(100*p.get_height()/len(df_train.target)), (p.get_x()+ 0.3, p.get_height()+10000))\n",
        "\n",
        "plt.title('Distribution of Targets')\n",
        "plt.xlabel('Initiation of Auto Insurance Claim Next Year')\n",
        "plt.ylabel('Frequency [%]')\n",
        "plt.show()"
      ],
      "execution_count": 0,
      "outputs": [
        {
          "output_type": "display_data",
          "data": {
            "image/png": "[encoded data removed]",
            "text/plain": [
              "<Figure size 720x360 with 1 Axes>"
            ]
          },
          "metadata": {
            "tags": []
          }
        }
      ]
    },
    {
      "cell_type": "code",
      "metadata": {
        "id": "lH4E4pCx_Qpy",
        "colab_type": "code",
        "outputId": "cff99ce4-4ffe-4b97-ce85-fa79317af9cd",
        "colab": {
          "base_uri": "https://localhost:8080/",
          "height": 301
        }
      },
      "source": [
        "df_train.isnull().mean().sort_values(ascending=False).head(15)"
      ],
      "execution_count": 0,
      "outputs": [
        {
          "output_type": "execute_result",
          "data": {
            "text/plain": [
              "ps_car_03_cat    0.690898\n",
              "ps_car_05_cat    0.447825\n",
              "ps_reg_03        0.181065\n",
              "ps_car_14        0.071605\n",
              "ps_car_07_cat    0.019302\n",
              "ps_ind_05_cat    0.009760\n",
              "ps_car_09_cat    0.000956\n",
              "ps_ind_02_cat    0.000363\n",
              "ps_car_01_cat    0.000180\n",
              "ps_ind_04_cat    0.000139\n",
              "ps_car_02_cat    0.000008\n",
              "ps_car_11        0.000008\n",
              "ps_car_12        0.000002\n",
              "ps_ind_03        0.000000\n",
              "ps_ind_18_bin    0.000000\n",
              "dtype: float64"
            ]
          },
          "metadata": {
            "tags": []
          },
          "execution_count": 7
        }
      ]
    },
    {
      "cell_type": "code",
      "metadata": {
        "id": "QpdqHlIv_Ywv",
        "colab_type": "code",
        "outputId": "6d34515d-4509-4296-b6df-1d05441797b2",
        "colab": {
          "base_uri": "https://localhost:8080/",
          "height": 52
        }
      },
      "source": [
        "print('Training data shape: {}'.format(df_train.shape))\n",
        "print('Training data shape: {}'.format(df_test.shape))"
      ],
      "execution_count": 0,
      "outputs": [
        {
          "output_type": "stream",
          "text": [
            "Training data shape: (595212, 59)\n",
            "Training data shape: (892816, 58)\n"
          ],
          "name": "stdout"
        }
      ]
    },
    {
      "cell_type": "code",
      "metadata": {
        "id": "P13sLxT2_pZJ",
        "colab_type": "code",
        "colab": {}
      },
      "source": [
        "def get_missing_features(df):\n",
        "    missings = pd.DataFrame([], columns=['feature', 'no_recoreds', 'percentage'])\n",
        "    total_rows = df.shape[0]\n",
        "    index = 0\n",
        "    for feature in list(df):\n",
        "        total_nulls = df[feature].isnull().sum()\n",
        "        if total_nulls > 0:\n",
        "            missings_perc = total_nulls / total_rows\n",
        "            missings.loc[index] = [feature, total_nulls, missings_perc]\n",
        "            index += 1\n",
        "    missings = missings.sort_values('no_recoreds', ascending=False)\n",
        "    return missings"
      ],
      "execution_count": 0,
      "outputs": []
    },
    {
      "cell_type": "code",
      "metadata": {
        "id": "xb40DQqAAwoX",
        "colab_type": "code",
        "outputId": "04fbd4d3-0686-4250-96a7-717d02ff649b",
        "colab": {
          "base_uri": "https://localhost:8080/",
          "height": 266
        }
      },
      "source": [
        "df_missings = get_missing_features(df_train)\n",
        "print(df_missings)"
      ],
      "execution_count": 0,
      "outputs": [
        {
          "output_type": "stream",
          "text": [
            "          feature no_recoreds  percentage\n",
            "6   ps_car_03_cat      411231    0.690898\n",
            "7   ps_car_05_cat      266551    0.447825\n",
            "3       ps_reg_03      107772    0.181065\n",
            "12      ps_car_14       42620    0.071605\n",
            "8   ps_car_07_cat       11489    0.019302\n",
            "2   ps_ind_05_cat        5809    0.009760\n",
            "9   ps_car_09_cat         569    0.000956\n",
            "0   ps_ind_02_cat         216    0.000363\n",
            "4   ps_car_01_cat         107    0.000180\n",
            "1   ps_ind_04_cat          83    0.000139\n",
            "5   ps_car_02_cat           5    0.000008\n",
            "10      ps_car_11           5    0.000008\n",
            "11      ps_car_12           1    0.000002\n"
          ],
          "name": "stdout"
        }
      ]
    },
    {
      "cell_type": "code",
      "metadata": {
        "id": "kl2kNhhEAzMm",
        "colab_type": "code",
        "outputId": "956b1a82-f32c-4e03-a7eb-8f8ccbff3cdb",
        "colab": {
          "base_uri": "https://localhost:8080/",
          "height": 415
        }
      },
      "source": [
        "df_missings.plot(x='feature', y='no_recoreds', kind='bar', )\n"
      ],
      "execution_count": 0,
      "outputs": [
        {
          "output_type": "execute_result",
          "data": {
            "text/plain": [
              "<matplotlib.axes._subplots.AxesSubplot at 0x7ff290267080>"
            ]
          },
          "metadata": {
            "tags": []
          },
          "execution_count": 11
        },
        {
          "output_type": "display_data",
          "data": {
            "image/png": "[encoded data removed]",
            "text/plain": [
              "<Figure size 432x288 with 1 Axes>"
            ]
          },
          "metadata": {
            "tags": []
          }
        }
      ]
    },
    {
      "cell_type": "markdown",
      "metadata": {
        "id": "PvJqOhZ5BRvA",
        "colab_type": "text"
      },
      "source": [
        "## Missing Values"
      ]
    },
    {
      "cell_type": "code",
      "metadata": {
        "id": "0lr-tMhzCE46",
        "colab_type": "code",
        "outputId": "0a402ad2-0fa7-4378-d598-5a3472c3e6a3",
        "colab": {
          "base_uri": "https://localhost:8080/",
          "height": 1000
        }
      },
      "source": [
        "list(df_train.drop(['id'], axis=1))"
      ],
      "execution_count": 0,
      "outputs": [
        {
          "output_type": "execute_result",
          "data": {
            "text/plain": [
              "['target',\n",
              " 'ps_ind_01',\n",
              " 'ps_ind_02_cat',\n",
              " 'ps_ind_03',\n",
              " 'ps_ind_04_cat',\n",
              " 'ps_ind_05_cat',\n",
              " 'ps_ind_06_bin',\n",
              " 'ps_ind_07_bin',\n",
              " 'ps_ind_08_bin',\n",
              " 'ps_ind_09_bin',\n",
              " 'ps_ind_10_bin',\n",
              " 'ps_ind_11_bin',\n",
              " 'ps_ind_12_bin',\n",
              " 'ps_ind_13_bin',\n",
              " 'ps_ind_14',\n",
              " 'ps_ind_15',\n",
              " 'ps_ind_16_bin',\n",
              " 'ps_ind_17_bin',\n",
              " 'ps_ind_18_bin',\n",
              " 'ps_reg_01',\n",
              " 'ps_reg_02',\n",
              " 'ps_reg_03',\n",
              " 'ps_car_01_cat',\n",
              " 'ps_car_02_cat',\n",
              " 'ps_car_03_cat',\n",
              " 'ps_car_04_cat',\n",
              " 'ps_car_05_cat',\n",
              " 'ps_car_06_cat',\n",
              " 'ps_car_07_cat',\n",
              " 'ps_car_08_cat',\n",
              " 'ps_car_09_cat',\n",
              " 'ps_car_10_cat',\n",
              " 'ps_car_11_cat',\n",
              " 'ps_car_11',\n",
              " 'ps_car_12',\n",
              " 'ps_car_13',\n",
              " 'ps_car_14',\n",
              " 'ps_car_15',\n",
              " 'ps_calc_01',\n",
              " 'ps_calc_02',\n",
              " 'ps_calc_03',\n",
              " 'ps_calc_04',\n",
              " 'ps_calc_05',\n",
              " 'ps_calc_06',\n",
              " 'ps_calc_07',\n",
              " 'ps_calc_08',\n",
              " 'ps_calc_09',\n",
              " 'ps_calc_10',\n",
              " 'ps_calc_11',\n",
              " 'ps_calc_12',\n",
              " 'ps_calc_13',\n",
              " 'ps_calc_14',\n",
              " 'ps_calc_15_bin',\n",
              " 'ps_calc_16_bin',\n",
              " 'ps_calc_17_bin',\n",
              " 'ps_calc_18_bin',\n",
              " 'ps_calc_19_bin',\n",
              " 'ps_calc_20_bin']"
            ]
          },
          "metadata": {
            "tags": []
          },
          "execution_count": 12
        }
      ]
    },
    {
      "cell_type": "code",
      "metadata": {
        "id": "mhhT0N6jA8Fd",
        "colab_type": "code",
        "colab": {}
      },
      "source": [
        "for feature in list(df_train.drop(['id'], axis=1)):\n",
        "    if df_train[feature].isnull().sum() > 0:\n",
        "        df_train[feature].fillna(df_train[feature].mode()[0],inplace=True)\n",
        "\n",
        "for feature in list(df_test.drop(['id'], axis=1)):\n",
        "    if df_test[feature].isnull().sum() > 0:\n",
        "        df_test[feature].fillna(df_train[feature].mode()[0],inplace=True)"
      ],
      "execution_count": 0,
      "outputs": []
    },
    {
      "cell_type": "code",
      "metadata": {
        "id": "yyPoc0-yCnEW",
        "colab_type": "code",
        "outputId": "69b8f038-8c1d-4ae6-c038-7aaa76a019b9",
        "colab": {
          "base_uri": "https://localhost:8080/",
          "height": 47
        }
      },
      "source": [
        "get_missing_features(df_train)"
      ],
      "execution_count": 0,
      "outputs": [
        {
          "output_type": "execute_result",
          "data": {
            "text/html": [
              "<div>\n",
              "<style scoped>\n",
              "    .dataframe tbody tr th:only-of-type {\n",
              "        vertical-align: middle;\n",
              "    }\n",
              "\n",
              "    .dataframe tbody tr th {\n",
              "        vertical-align: top;\n",
              "    }\n",
              "\n",
              "    .dataframe thead th {\n",
              "        text-align: right;\n",
              "    }\n",
              "</style>\n",
              "<table border=\"1\" class=\"dataframe\">\n",
              "  <thead>\n",
              "    <tr style=\"text-align: right;\">\n",
              "      <th></th>\n",
              "      <th>feature</th>\n",
              "      <th>no_recoreds</th>\n",
              "      <th>percentage</th>\n",
              "    </tr>\n",
              "  </thead>\n",
              "  <tbody>\n",
              "  </tbody>\n",
              "</table>\n",
              "</div>"
            ],
            "text/plain": [
              "Empty DataFrame\n",
              "Columns: [feature, no_recoreds, percentage]\n",
              "Index: []"
            ]
          },
          "metadata": {
            "tags": []
          },
          "execution_count": 14
        }
      ]
    },
    {
      "cell_type": "code",
      "metadata": {
        "id": "fWhCPanCIfIe",
        "colab_type": "code",
        "outputId": "c9cd79f9-316b-4d2c-8c29-edf14aedc0fc",
        "colab": {
          "base_uri": "https://localhost:8080/",
          "height": 214
        }
      },
      "source": [
        "df_train.head()"
      ],
      "execution_count": 0,
      "outputs": [
        {
          "output_type": "execute_result",
          "data": {
            "text/html": [
              "<div>\n",
              "<style scoped>\n",
              "    .dataframe tbody tr th:only-of-type {\n",
              "        vertical-align: middle;\n",
              "    }\n",
              "\n",
              "    .dataframe tbody tr th {\n",
              "        vertical-align: top;\n",
              "    }\n",
              "\n",
              "    .dataframe thead th {\n",
              "        text-align: right;\n",
              "    }\n",
              "</style>\n",
              "<table border=\"1\" class=\"dataframe\">\n",
              "  <thead>\n",
              "    <tr style=\"text-align: right;\">\n",
              "      <th></th>\n",
              "      <th>id</th>\n",
              "      <th>target</th>\n",
              "      <th>ps_ind_01</th>\n",
              "      <th>ps_ind_02_cat</th>\n",
              "      <th>ps_ind_03</th>\n",
              "      <th>ps_ind_04_cat</th>\n",
              "      <th>ps_ind_05_cat</th>\n",
              "      <th>ps_ind_06_bin</th>\n",
              "      <th>ps_ind_07_bin</th>\n",
              "      <th>ps_ind_08_bin</th>\n",
              "      <th>ps_ind_09_bin</th>\n",
              "      <th>ps_ind_10_bin</th>\n",
              "      <th>ps_ind_11_bin</th>\n",
              "      <th>ps_ind_12_bin</th>\n",
              "      <th>ps_ind_13_bin</th>\n",
              "      <th>ps_ind_14</th>\n",
              "      <th>ps_ind_15</th>\n",
              "      <th>ps_ind_16_bin</th>\n",
              "      <th>ps_ind_17_bin</th>\n",
              "      <th>ps_ind_18_bin</th>\n",
              "      <th>ps_reg_01</th>\n",
              "      <th>ps_reg_02</th>\n",
              "      <th>ps_reg_03</th>\n",
              "      <th>ps_car_01_cat</th>\n",
              "      <th>ps_car_02_cat</th>\n",
              "      <th>ps_car_03_cat</th>\n",
              "      <th>ps_car_04_cat</th>\n",
              "      <th>ps_car_05_cat</th>\n",
              "      <th>ps_car_06_cat</th>\n",
              "      <th>ps_car_07_cat</th>\n",
              "      <th>ps_car_08_cat</th>\n",
              "      <th>ps_car_09_cat</th>\n",
              "      <th>ps_car_10_cat</th>\n",
              "      <th>ps_car_11_cat</th>\n",
              "      <th>ps_car_11</th>\n",
              "      <th>ps_car_12</th>\n",
              "      <th>ps_car_13</th>\n",
              "      <th>ps_car_14</th>\n",
              "      <th>ps_car_15</th>\n",
              "      <th>ps_calc_01</th>\n",
              "      <th>ps_calc_02</th>\n",
              "      <th>ps_calc_03</th>\n",
              "      <th>ps_calc_04</th>\n",
              "      <th>ps_calc_05</th>\n",
              "      <th>ps_calc_06</th>\n",
              "      <th>ps_calc_07</th>\n",
              "      <th>ps_calc_08</th>\n",
              "      <th>ps_calc_09</th>\n",
              "      <th>ps_calc_10</th>\n",
              "      <th>ps_calc_11</th>\n",
              "      <th>ps_calc_12</th>\n",
              "      <th>ps_calc_13</th>\n",
              "      <th>ps_calc_14</th>\n",
              "      <th>ps_calc_15_bin</th>\n",
              "      <th>ps_calc_16_bin</th>\n",
              "      <th>ps_calc_17_bin</th>\n",
              "      <th>ps_calc_18_bin</th>\n",
              "      <th>ps_calc_19_bin</th>\n",
              "      <th>ps_calc_20_bin</th>\n",
              "    </tr>\n",
              "  </thead>\n",
              "  <tbody>\n",
              "    <tr>\n",
              "      <th>0</th>\n",
              "      <td>7</td>\n",
              "      <td>0</td>\n",
              "      <td>2</td>\n",
              "      <td>2.0</td>\n",
              "      <td>5</td>\n",
              "      <td>1.0</td>\n",
              "      <td>0.0</td>\n",
              "      <td>0</td>\n",
              "      <td>1</td>\n",
              "      <td>0</td>\n",
              "      <td>0</td>\n",
              "      <td>0</td>\n",
              "      <td>0</td>\n",
              "      <td>0</td>\n",
              "      <td>0</td>\n",
              "      <td>0</td>\n",
              "      <td>11</td>\n",
              "      <td>0</td>\n",
              "      <td>1</td>\n",
              "      <td>0</td>\n",
              "      <td>0.7</td>\n",
              "      <td>0.2</td>\n",
              "      <td>0.718070</td>\n",
              "      <td>10.0</td>\n",
              "      <td>1.0</td>\n",
              "      <td>1.0</td>\n",
              "      <td>0</td>\n",
              "      <td>1.0</td>\n",
              "      <td>4</td>\n",
              "      <td>1.0</td>\n",
              "      <td>0</td>\n",
              "      <td>0.0</td>\n",
              "      <td>1</td>\n",
              "      <td>12</td>\n",
              "      <td>2.0</td>\n",
              "      <td>0.400000</td>\n",
              "      <td>0.883679</td>\n",
              "      <td>0.370810</td>\n",
              "      <td>3.605551</td>\n",
              "      <td>0.6</td>\n",
              "      <td>0.5</td>\n",
              "      <td>0.2</td>\n",
              "      <td>3</td>\n",
              "      <td>1</td>\n",
              "      <td>10</td>\n",
              "      <td>1</td>\n",
              "      <td>10</td>\n",
              "      <td>1</td>\n",
              "      <td>5</td>\n",
              "      <td>9</td>\n",
              "      <td>1</td>\n",
              "      <td>5</td>\n",
              "      <td>8</td>\n",
              "      <td>0</td>\n",
              "      <td>1</td>\n",
              "      <td>1</td>\n",
              "      <td>0</td>\n",
              "      <td>0</td>\n",
              "      <td>1</td>\n",
              "    </tr>\n",
              "    <tr>\n",
              "      <th>1</th>\n",
              "      <td>9</td>\n",
              "      <td>0</td>\n",
              "      <td>1</td>\n",
              "      <td>1.0</td>\n",
              "      <td>7</td>\n",
              "      <td>0.0</td>\n",
              "      <td>0.0</td>\n",
              "      <td>0</td>\n",
              "      <td>0</td>\n",
              "      <td>1</td>\n",
              "      <td>0</td>\n",
              "      <td>0</td>\n",
              "      <td>0</td>\n",
              "      <td>0</td>\n",
              "      <td>0</td>\n",
              "      <td>0</td>\n",
              "      <td>3</td>\n",
              "      <td>0</td>\n",
              "      <td>0</td>\n",
              "      <td>1</td>\n",
              "      <td>0.8</td>\n",
              "      <td>0.4</td>\n",
              "      <td>0.766078</td>\n",
              "      <td>11.0</td>\n",
              "      <td>1.0</td>\n",
              "      <td>1.0</td>\n",
              "      <td>0</td>\n",
              "      <td>1.0</td>\n",
              "      <td>11</td>\n",
              "      <td>1.0</td>\n",
              "      <td>1</td>\n",
              "      <td>2.0</td>\n",
              "      <td>1</td>\n",
              "      <td>19</td>\n",
              "      <td>3.0</td>\n",
              "      <td>0.316228</td>\n",
              "      <td>0.618817</td>\n",
              "      <td>0.388716</td>\n",
              "      <td>2.449490</td>\n",
              "      <td>0.3</td>\n",
              "      <td>0.1</td>\n",
              "      <td>0.3</td>\n",
              "      <td>2</td>\n",
              "      <td>1</td>\n",
              "      <td>9</td>\n",
              "      <td>5</td>\n",
              "      <td>8</td>\n",
              "      <td>1</td>\n",
              "      <td>7</td>\n",
              "      <td>3</td>\n",
              "      <td>1</td>\n",
              "      <td>1</td>\n",
              "      <td>9</td>\n",
              "      <td>0</td>\n",
              "      <td>1</td>\n",
              "      <td>1</td>\n",
              "      <td>0</td>\n",
              "      <td>1</td>\n",
              "      <td>0</td>\n",
              "    </tr>\n",
              "    <tr>\n",
              "      <th>2</th>\n",
              "      <td>13</td>\n",
              "      <td>0</td>\n",
              "      <td>5</td>\n",
              "      <td>4.0</td>\n",
              "      <td>9</td>\n",
              "      <td>1.0</td>\n",
              "      <td>0.0</td>\n",
              "      <td>0</td>\n",
              "      <td>0</td>\n",
              "      <td>1</td>\n",
              "      <td>0</td>\n",
              "      <td>0</td>\n",
              "      <td>0</td>\n",
              "      <td>0</td>\n",
              "      <td>0</td>\n",
              "      <td>0</td>\n",
              "      <td>12</td>\n",
              "      <td>1</td>\n",
              "      <td>0</td>\n",
              "      <td>0</td>\n",
              "      <td>0.0</td>\n",
              "      <td>0.0</td>\n",
              "      <td>0.633936</td>\n",
              "      <td>7.0</td>\n",
              "      <td>1.0</td>\n",
              "      <td>1.0</td>\n",
              "      <td>0</td>\n",
              "      <td>1.0</td>\n",
              "      <td>14</td>\n",
              "      <td>1.0</td>\n",
              "      <td>1</td>\n",
              "      <td>2.0</td>\n",
              "      <td>1</td>\n",
              "      <td>60</td>\n",
              "      <td>1.0</td>\n",
              "      <td>0.316228</td>\n",
              "      <td>0.641586</td>\n",
              "      <td>0.347275</td>\n",
              "      <td>3.316625</td>\n",
              "      <td>0.5</td>\n",
              "      <td>0.7</td>\n",
              "      <td>0.1</td>\n",
              "      <td>2</td>\n",
              "      <td>2</td>\n",
              "      <td>9</td>\n",
              "      <td>1</td>\n",
              "      <td>8</td>\n",
              "      <td>2</td>\n",
              "      <td>7</td>\n",
              "      <td>4</td>\n",
              "      <td>2</td>\n",
              "      <td>7</td>\n",
              "      <td>7</td>\n",
              "      <td>0</td>\n",
              "      <td>1</td>\n",
              "      <td>1</td>\n",
              "      <td>0</td>\n",
              "      <td>1</td>\n",
              "      <td>0</td>\n",
              "    </tr>\n",
              "    <tr>\n",
              "      <th>3</th>\n",
              "      <td>16</td>\n",
              "      <td>0</td>\n",
              "      <td>0</td>\n",
              "      <td>1.0</td>\n",
              "      <td>2</td>\n",
              "      <td>0.0</td>\n",
              "      <td>0.0</td>\n",
              "      <td>1</td>\n",
              "      <td>0</td>\n",
              "      <td>0</td>\n",
              "      <td>0</td>\n",
              "      <td>0</td>\n",
              "      <td>0</td>\n",
              "      <td>0</td>\n",
              "      <td>0</td>\n",
              "      <td>0</td>\n",
              "      <td>8</td>\n",
              "      <td>1</td>\n",
              "      <td>0</td>\n",
              "      <td>0</td>\n",
              "      <td>0.9</td>\n",
              "      <td>0.2</td>\n",
              "      <td>0.580948</td>\n",
              "      <td>7.0</td>\n",
              "      <td>1.0</td>\n",
              "      <td>0.0</td>\n",
              "      <td>0</td>\n",
              "      <td>1.0</td>\n",
              "      <td>11</td>\n",
              "      <td>1.0</td>\n",
              "      <td>1</td>\n",
              "      <td>3.0</td>\n",
              "      <td>1</td>\n",
              "      <td>104</td>\n",
              "      <td>1.0</td>\n",
              "      <td>0.374166</td>\n",
              "      <td>0.542949</td>\n",
              "      <td>0.294958</td>\n",
              "      <td>2.000000</td>\n",
              "      <td>0.6</td>\n",
              "      <td>0.9</td>\n",
              "      <td>0.1</td>\n",
              "      <td>2</td>\n",
              "      <td>4</td>\n",
              "      <td>7</td>\n",
              "      <td>1</td>\n",
              "      <td>8</td>\n",
              "      <td>4</td>\n",
              "      <td>2</td>\n",
              "      <td>2</td>\n",
              "      <td>2</td>\n",
              "      <td>4</td>\n",
              "      <td>9</td>\n",
              "      <td>0</td>\n",
              "      <td>0</td>\n",
              "      <td>0</td>\n",
              "      <td>0</td>\n",
              "      <td>0</td>\n",
              "      <td>0</td>\n",
              "    </tr>\n",
              "    <tr>\n",
              "      <th>4</th>\n",
              "      <td>17</td>\n",
              "      <td>0</td>\n",
              "      <td>0</td>\n",
              "      <td>2.0</td>\n",
              "      <td>0</td>\n",
              "      <td>1.0</td>\n",
              "      <td>0.0</td>\n",
              "      <td>1</td>\n",
              "      <td>0</td>\n",
              "      <td>0</td>\n",
              "      <td>0</td>\n",
              "      <td>0</td>\n",
              "      <td>0</td>\n",
              "      <td>0</td>\n",
              "      <td>0</td>\n",
              "      <td>0</td>\n",
              "      <td>9</td>\n",
              "      <td>1</td>\n",
              "      <td>0</td>\n",
              "      <td>0</td>\n",
              "      <td>0.7</td>\n",
              "      <td>0.6</td>\n",
              "      <td>0.840759</td>\n",
              "      <td>11.0</td>\n",
              "      <td>1.0</td>\n",
              "      <td>1.0</td>\n",
              "      <td>0</td>\n",
              "      <td>1.0</td>\n",
              "      <td>14</td>\n",
              "      <td>1.0</td>\n",
              "      <td>1</td>\n",
              "      <td>2.0</td>\n",
              "      <td>1</td>\n",
              "      <td>82</td>\n",
              "      <td>3.0</td>\n",
              "      <td>0.316070</td>\n",
              "      <td>0.565832</td>\n",
              "      <td>0.365103</td>\n",
              "      <td>2.000000</td>\n",
              "      <td>0.4</td>\n",
              "      <td>0.6</td>\n",
              "      <td>0.0</td>\n",
              "      <td>2</td>\n",
              "      <td>2</td>\n",
              "      <td>6</td>\n",
              "      <td>3</td>\n",
              "      <td>10</td>\n",
              "      <td>2</td>\n",
              "      <td>12</td>\n",
              "      <td>3</td>\n",
              "      <td>1</td>\n",
              "      <td>1</td>\n",
              "      <td>3</td>\n",
              "      <td>0</td>\n",
              "      <td>0</td>\n",
              "      <td>0</td>\n",
              "      <td>1</td>\n",
              "      <td>1</td>\n",
              "      <td>0</td>\n",
              "    </tr>\n",
              "  </tbody>\n",
              "</table>\n",
              "</div>"
            ],
            "text/plain": [
              "   id  target  ps_ind_01  ...  ps_calc_18_bin  ps_calc_19_bin  ps_calc_20_bin\n",
              "0   7       0          2  ...               0               0               1\n",
              "1   9       0          1  ...               0               1               0\n",
              "2  13       0          5  ...               0               1               0\n",
              "3  16       0          0  ...               0               0               0\n",
              "4  17       0          0  ...               1               1               0\n",
              "\n",
              "[5 rows x 59 columns]"
            ]
          },
          "metadata": {
            "tags": []
          },
          "execution_count": 15
        }
      ]
    },
    {
      "cell_type": "markdown",
      "metadata": {
        "id": "Mkd23N0TtC8c",
        "colab_type": "text"
      },
      "source": [
        "## Gini Definition"
      ]
    },
    {
      "cell_type": "code",
      "metadata": {
        "id": "J0tdhEQ2yeEW",
        "colab_type": "code",
        "colab": {}
      },
      "source": [
        "# Onother gini deffinition\n",
        "# Define the gini metric - from https://www.kaggle.com/c/ClaimPredictionChallenge/discussion/703#5897\n",
        "def gini(actual, pred, cmpcol = 0, sortcol = 1):\n",
        "    assert( len(actual) == len(pred) )\n",
        "    all = np.asarray(np.c_[ actual, pred, np.arange(len(actual)) ], dtype=np.float)\n",
        "    all = all[ np.lexsort((all[:,2], -1*all[:,1])) ]\n",
        "    totalLosses = all[:,0].sum()\n",
        "    giniSum = all[:,0].cumsum().sum() / totalLosses\n",
        "    \n",
        "    giniSum -= (len(actual) + 1) / 2.\n",
        "    return giniSum / len(actual)\n",
        " \n",
        "def gini_normalized(a, p):\n",
        "    return gini(a, p) / gini(a, a)\n",
        "\n",
        "def gini_xgb(preds, dtrain):\n",
        "    labels = dtrain.get_label()\n",
        "    gini_score = gini_normalized(labels, preds)\n",
        "    return 'gini', gini_score"
      ],
      "execution_count": 0,
      "outputs": []
    },
    {
      "cell_type": "code",
      "metadata": {
        "id": "gwJHZSKVJT6M",
        "colab_type": "code",
        "colab": {}
      },
      "source": [
        "# from https://www.kaggle.com/mashavasilenko/porto-seguro-xgb-modeling-and-parameters-tuning\n",
        "\n",
        "# def eval_gini(y_true, y_prob):\n",
        "#     y_true = np.asarray(y_true)\n",
        "#     y_true = y_true[np.argsort(y_prob)]\n",
        "#     ntrue = 0\n",
        "#     gini = 0\n",
        "#     delta = 0\n",
        "#     n = len(y_true)\n",
        "#     for i in range(n-1, -1, -1):\n",
        "#         y_i = y_true[i]\n",
        "#         ntrue += y_i\n",
        "#         gini += y_i * delta\n",
        "#         delta += 1 - y_i\n",
        "#     gini = 1 - 2 * gini / (ntrue * (n - ntrue))\n",
        "#     return gini\n",
        "\n",
        "\n",
        "# def gini_xgb(preds, dtrain):\n",
        "#     labels = dtrain.get_label()\n",
        "#     gini_score = -eval_gini(labels, preds)\n",
        "#     return [('gini', gini_score)]\n",
        "\n",
        "# def gini_normalized(a, p):\n",
        "#     return gini(a, p) / gini(a, a)"
      ],
      "execution_count": 0,
      "outputs": []
    },
    {
      "cell_type": "code",
      "metadata": {
        "id": "oK4C2usLQxhl",
        "colab_type": "code",
        "colab": {}
      },
      "source": [
        ""
      ],
      "execution_count": 0,
      "outputs": []
    },
    {
      "cell_type": "markdown",
      "metadata": {
        "id": "ZSlPmXXCpaKf",
        "colab_type": "text"
      },
      "source": [
        "## Try with ensamble learning\n",
        "\n",
        "---\n",
        "\n",
        "\n",
        "\n"
      ]
    },
    {
      "cell_type": "code",
      "metadata": {
        "id": "ou1stnldQ1EU",
        "colab_type": "code",
        "outputId": "6af103fe-b395-4c6c-dfa9-1f0bd23e2284",
        "colab": {
          "base_uri": "https://localhost:8080/",
          "height": 55
        }
      },
      "source": [
        "'''\n",
        "from sklearn.model_selection import StratifiedKFold\n",
        "\n",
        "class Create_ensemble(object):\n",
        "    def __init__(self, n_splits, base_models):\n",
        "        self.n_splits = n_splits\n",
        "        self.base_models = base_models\n",
        "\n",
        "    def predict(self, X, y, T):\n",
        "        X = np.array(X)\n",
        "        y = np.array(y)\n",
        "        T = np.array(T)\n",
        "\n",
        "        folds = list(StratifiedKFold(n_splits=self.n_splits, shuffle=True, random_state=random_state).split(X, y))\n",
        "\n",
        "        S_train = np.zeros((X.shape[0], len(self.base_models)))\n",
        "        S_test = np.zeros((T.shape[0], len(self.base_models)))\n",
        "        \n",
        "        for i, clf in enumerate(self.base_models):\n",
        "            S_test_i = np.zeros((T.shape[0], self.n_splits))\n",
        "\n",
        "            for j, (train_idx, valid_idx) in enumerate(folds):\n",
        "                X_train = X[train_idx]\n",
        "                y_train = y[train_idx]\n",
        "                X_valid = X[valid_idx]\n",
        "                y_valid = y[valid_idx]\n",
        "                \n",
        "                clf.fit(X_train, y_train)\n",
        "                valid_pred = clf.predict_proba(X_valid)[:,1]\n",
        "                S_train[valid_idx, i] = valid_pred\n",
        "                S_test_i[:, j] = clf.predict_proba(T)[:,1]\n",
        "            \n",
        "            print( \"\\nTraining Gini for model {} : {}\".format(i, eval_gini(y, S_train[:,i])))\n",
        "            S_test[:, i] = S_test_i.mean(axis=1)\n",
        "            \n",
        "        return S_train, S_test\n",
        "'''"
      ],
      "execution_count": 0,
      "outputs": [
        {
          "output_type": "execute_result",
          "data": {
            "text/plain": [
              "'\\nfrom sklearn.model_selection import StratifiedKFold\\n\\nclass Create_ensemble(object):\\n    def __init__(self, n_splits, base_models):\\n        self.n_splits = n_splits\\n        self.base_models = base_models\\n\\n    def predict(self, X, y, T):\\n        X = np.array(X)\\n        y = np.array(y)\\n        T = np.array(T)\\n\\n        folds = list(StratifiedKFold(n_splits=self.n_splits, shuffle=True, random_state=random_state).split(X, y))\\n\\n        S_train = np.zeros((X.shape[0], len(self.base_models)))\\n        S_test = np.zeros((T.shape[0], len(self.base_models)))\\n        \\n        for i, clf in enumerate(self.base_models):\\n            S_test_i = np.zeros((T.shape[0], self.n_splits))\\n\\n            for j, (train_idx, valid_idx) in enumerate(folds):\\n                X_train = X[train_idx]\\n                y_train = y[train_idx]\\n                X_valid = X[valid_idx]\\n                y_valid = y[valid_idx]\\n                \\n                clf.fit(X_train, y_train)\\n                valid_pred = clf.predict_proba(X_valid)[:,1]\\n                S_train[valid_idx, i] = valid_pred\\n                S_test_i[:, j] = clf.predict_proba(T)[:,1]\\n            \\n            print( \"\\nTraining Gini for model {} : {}\".format(i, eval_gini(y, S_train[:,i])))\\n            S_test[:, i] = S_test_i.mean(axis=1)\\n            \\n        return S_train, S_test\\n'"
            ]
          },
          "metadata": {
            "tags": []
          },
          "execution_count": 16
        }
      ]
    },
    {
      "cell_type": "code",
      "metadata": {
        "id": "9y87AbpwQ3aF",
        "colab_type": "code",
        "colab": {}
      },
      "source": [
        "'''\n",
        "# LightGBM params\n",
        "lgb_params = {}\n",
        "lgb_params['learning_rate'] = 0.02\n",
        "lgb_params['n_estimators'] = 700\n",
        "lgb_params['max_bin'] = 15\n",
        "lgb_params['subsample'] = 0.8\n",
        "lgb_params['subsample_freq'] = 10\n",
        "lgb_params['colsample_bytree'] = 0.8   \n",
        "lgb_params['min_child_samples'] = 800\n",
        "lgb_params['random_state'] = random_state\n",
        "lgb_params['scale_pos_weight'] = 3\n",
        "\n",
        "lgb_params2 = {}\n",
        "lgb_params2['learning_rate'] = 0.02\n",
        "lgb_params2['n_estimators'] = 900\n",
        "lgb_params2['max_bin'] = 20\n",
        "lgb_params2['subsample'] = 0.8\n",
        "lgb_params2['subsample_freq'] = 10\n",
        "lgb_params2['colsample_bytree'] = 0.8   \n",
        "lgb_params2['min_child_samples'] = 600\n",
        "lgb_params2['random_state'] = random_state\n",
        "lgb_params2['scale_pos_weight'] = 3\n",
        "\n",
        "lgb_model = LGBMClassifier(**lgb_params)\n",
        "lgb_model2 = LGBMClassifier(**lgb_params2)\n",
        "'''"
      ],
      "execution_count": 0,
      "outputs": []
    },
    {
      "cell_type": "code",
      "metadata": {
        "id": "2ddXsDipRYeL",
        "colab_type": "code",
        "colab": {}
      },
      "source": [
        "'''\n",
        "id_test = df_test['id'].values\n",
        "y = df_train['target'].values\n",
        "\n",
        "df_train = df_train.drop(['target','id'], axis = 1)\n",
        "df_test = df_test.drop(['id'], axis = 1) \n",
        "'''"
      ],
      "execution_count": 0,
      "outputs": []
    },
    {
      "cell_type": "code",
      "metadata": {
        "id": "lTv8HEXwQ_Ml",
        "colab_type": "code",
        "outputId": "b3dce62c-0fd8-42ae-efee-d31cd50c177e",
        "colab": {
          "base_uri": "https://localhost:8080/",
          "height": 87
        }
      },
      "source": [
        "'''\n",
        "lgb_stack = Create_ensemble(n_splits = 5, base_models = [lgb_model, lgb_model2])        \n",
        "X = df_train\n",
        "Y = y\n",
        "T = df_test\n",
        "lgb_train_pred, lgb_test_pred = lgb_stack.predict(X, Y, T)\n",
        "'''"
      ],
      "execution_count": 0,
      "outputs": [
        {
          "output_type": "stream",
          "text": [
            "\n",
            "Training Gini for model 0 : 0.2796724853980198\n",
            "\n",
            "Training Gini for model 1 : 0.2803904463497011\n"
          ],
          "name": "stdout"
        }
      ]
    },
    {
      "cell_type": "code",
      "metadata": {
        "id": "smSQJ8OeRFZl",
        "colab_type": "code",
        "colab": {}
      },
      "source": [
        "\n",
        "### Try with stratified Kfold and XGB"
      ],
      "execution_count": 0,
      "outputs": []
    },
    {
      "cell_type": "markdown",
      "metadata": {
        "id": "0AzG7PNyp8e1",
        "colab_type": "text"
      },
      "source": [
        "## Try with stratified Kfold and XGB\n",
        "\n",
        "\n",
        "---\n",
        "\n",
        "\n",
        "\n",
        "\n",
        "\n"
      ]
    },
    {
      "cell_type": "code",
      "metadata": {
        "id": "9fG4XxvxqLks",
        "colab_type": "code",
        "colab": {}
      },
      "source": [
        "import xgboost as xgb"
      ],
      "execution_count": 0,
      "outputs": []
    },
    {
      "cell_type": "code",
      "metadata": {
        "id": "-76rUImWp4Uu",
        "colab_type": "code",
        "colab": {}
      },
      "source": [
        "#Stratified KFold is used to keep the distribution of each label consistent for each training batch.\n",
        "from sklearn.model_selection import StratifiedKFold\n",
        "\n",
        "kfold = 3\n",
        "skf = StratifiedKFold(n_splits=kfold, random_state=42)"
      ],
      "execution_count": 0,
      "outputs": []
    },
    {
      "cell_type": "code",
      "metadata": {
        "id": "aX8b9Z_4Dp2-",
        "colab_type": "code",
        "outputId": "30c823cc-aa3c-40d0-efe0-cca2852a6008",
        "colab": {
          "base_uri": "https://localhost:8080/",
          "height": 35
        }
      },
      "source": [
        "tmp = df_train.target.value_counts()\n",
        "scale_pos_weight = tmp[0]/tmp[1]\n",
        "print(scale_pos_weight)"
      ],
      "execution_count": 0,
      "outputs": [
        {
          "output_type": "stream",
          "text": [
            "26.43671061122891\n"
          ],
          "name": "stdout"
        }
      ]
    },
    {
      "cell_type": "code",
      "metadata": {
        "id": "_fgm8tE3qg_X",
        "colab_type": "code",
        "colab": {}
      },
      "source": [
        "# Defining the hyperparameters\n",
        "params = {\n",
        "    'min_child_weight': 10.0,\n",
        "    'objective': 'binary:logistic',\n",
        "    'max_depth': 7,\n",
        "    'max_delta_step': 1.8,\n",
        "    'colsample_bytree': 0.4,\n",
        "    'subsample': 0.8,\n",
        "    'eta': 0.025,\n",
        "    'gamma': 0.65,\n",
        "    'num_boost_round' : 500,\n",
        "    # 'scale_pos_weight' : 10, # Result of the Gridseaerch below,\n",
        "    'tree_method' : 'gpu_hist'\n",
        "    }"
      ],
      "execution_count": 0,
      "outputs": []
    },
    {
      "cell_type": "markdown",
      "metadata": {
        "id": "IAFgPCbSrACM",
        "colab_type": "text"
      },
      "source": [
        "### Predictions"
      ]
    },
    {
      "cell_type": "code",
      "metadata": {
        "id": "W1hBTRMtrBjB",
        "colab_type": "code",
        "colab": {}
      },
      "source": [
        "# Define X_train and y_train\n",
        "X = df_train.drop(['id', 'target'], axis=1).values\n",
        "y = df_train.target.values\n",
        "test_id = df_test.id.values\n",
        "test = df_test.drop('id', axis=1)"
      ],
      "execution_count": 0,
      "outputs": []
    },
    {
      "cell_type": "code",
      "metadata": {
        "id": "vin3N8Hg151-",
        "colab_type": "code",
        "colab": {}
      },
      "source": [
        "# I will incorporate different resampling techniques to try tackle the implance\n",
        "# problem\n",
        "# Cant take datasets with nan values!\n",
        "from imblearn.under_sampling import (ClusterCentroids, RandomUnderSampler,\n",
        "                                     TomekLinks,\n",
        "                                     CondensedNearestNeighbour,\n",
        "                                     NearMiss\n",
        "                                    )\n",
        "from collections import Counter\n",
        "\n",
        "# cc = ClusterCentroids(random_state=42, ratio='majority', n_jobs=-1)\n",
        "# rus = RandomUnderSampler(sampling_strategy='majority')\n",
        "tl = TomekLinks(sampling_strategy='majority', n_jobs=-1, random_state=42)\n",
        "# conn = CondensedNearestNeighbour(sampling_strategy='majority', n_jobs=-1)\n",
        "# nm = NearMiss(sampling_strategy='majority', n_jobs=-1, random_state=42)"
      ],
      "execution_count": 0,
      "outputs": []
    },
    {
      "cell_type": "code",
      "metadata": {
        "id": "4ZXo978ua5Jd",
        "colab_type": "code",
        "colab": {}
      },
      "source": [
        "from imblearn.over_sampling import SMOTE\n",
        "from imblearn.combine import SMOTETomek\n",
        "\n",
        "from collections import Counter\n",
        "\n",
        "sm = SMOTE(sampling_strategy='minority', n_jobs = -1)\n",
        "smt = SMOTETomek()"
      ],
      "execution_count": 0,
      "outputs": []
    },
    {
      "cell_type": "code",
      "metadata": {
        "id": "Wa5leLZk5zjx",
        "colab_type": "code",
        "colab": {}
      },
      "source": [
        "# X_res, y_res = rus.fit_resample(X, y)\n",
        "# X_res, y_res = conn.fit_resample(X, y)\n",
        "# X_res, y_res = smt.fit_resample(X, y)\n",
        "# X_res, y_res = nm.fit_resample(X, y)\n",
        "X_res, y_res = tl.fit_resample(X, y)"
      ],
      "execution_count": 0,
      "outputs": []
    },
    {
      "cell_type": "code",
      "metadata": {
        "id": "f5NXSkZv-mKM",
        "colab_type": "code",
        "outputId": "b5b04d7e-59e7-487e-9c34-009298317944",
        "colab": {
          "base_uri": "https://localhost:8080/",
          "height": 35
        }
      },
      "source": [
        "print('Resampled dataset shape %s' % Counter(y_res))"
      ],
      "execution_count": 0,
      "outputs": [
        {
          "output_type": "stream",
          "text": [
            "Resampled dataset shape Counter({0: 21694, 1: 21694})\n"
          ],
          "name": "stdout"
        }
      ]
    },
    {
      "cell_type": "code",
      "metadata": {
        "id": "X47sAZeIl9GG",
        "colab_type": "code",
        "colab": {}
      },
      "source": [
        "x_res_df = pd.DataFrame(X_res) \n",
        "y_res_df = pd.DataFrame(y_res)\n",
        "train_res_df = pd.concat((x_res_df,y_res_df), axis=1)"
      ],
      "execution_count": 0,
      "outputs": []
    },
    {
      "cell_type": "code",
      "metadata": {
        "id": "dM8WUOZkmcO2",
        "colab_type": "code",
        "colab": {}
      },
      "source": [
        "train_res_df.to_csv('nearest_miss_resampled_train.csv')"
      ],
      "execution_count": 0,
      "outputs": []
    },
    {
      "cell_type": "code",
      "metadata": {
        "id": "ENDQ2287rKFO",
        "colab_type": "code",
        "colab": {}
      },
      "source": [
        "# Create a sumbission file\n",
        "sub = pd.DataFrame()\n",
        "sub['id'] = test_id\n",
        "sub['target'] = np.zeros_like(test_id)"
      ],
      "execution_count": 0,
      "outputs": []
    },
    {
      "cell_type": "code",
      "metadata": {
        "id": "5nc9rhKCrcK5",
        "colab_type": "code",
        "outputId": "2abf2aa3-54e8-4d4d-8807-4d6a2d82af17",
        "colab": {
          "base_uri": "https://localhost:8080/",
          "height": 764
        }
      },
      "source": [
        "# Stratified Kfold Prediction\n",
        "for i, (train_index, test_index) in enumerate(skf.split(X_res, y_res)):\n",
        "    print('[Fold %d/%d]' % (i + 1, kfold))\n",
        "    X_train, X_valid = X_res[train_index], X_res[test_index]\n",
        "    y_train, y_valid = y_res[train_index], y_res[test_index]\n",
        "    \n",
        "    # Convert our data into XGBoost format\n",
        "    d_train = xgb.DMatrix(X_train, y_train)\n",
        "    d_valid = xgb.DMatrix(X_valid, y_valid)\n",
        "    d_test = xgb.DMatrix(test.values)\n",
        "    watchlist = [(d_train, 'train'), (d_valid, 'valid')]\n",
        "\n",
        "    # Train the model! We pass in a max of 400 rounds (with early stopping after 70)\n",
        "    # and the custom metric (maximize=True tells xgb that higher metric is better)\n",
        "    mdl = xgb.train(params, d_train, 400, watchlist, early_stopping_rounds=70, feval=gini_xgb, maximize=True, verbose_eval=50)\n",
        "\n",
        "    print('[Fold %d/%d Prediciton:]' % (i + 1, kfold))\n",
        "    # Predict on our test data\n",
        "    p_test = mdl.predict(d_test, ntree_limit=mdl.best_ntree_limit)\n",
        "    sub['target'] += p_test/kfold\n",
        "\n",
        "\n",
        "mdl.save_model('xgb_model.model')\n",
        "sub.to_csv('StratifiedKFold_cluster_resample_v1.csv', index=False)"
      ],
      "execution_count": 0,
      "outputs": [
        {
          "output_type": "stream",
          "text": [
            "[Fold 1/3]\n",
            "[0]\ttrain-error:0.262264\tvalid-error:0.234184\ttrain-gini:0.542116\tvalid-gini:0.605305\n",
            "Multiple eval metrics have been passed: 'valid-gini' will be used for early stopping.\n",
            "\n",
            "Will train until valid-gini hasn't improved in 70 rounds.\n",
            "[50]\ttrain-error:0.17414\tvalid-error:0.156883\ttrain-gini:0.798082\tvalid-gini:0.846298\n",
            "[100]\ttrain-error:0.159412\tvalid-error:0.144161\ttrain-gini:0.83069\tvalid-gini:0.87218\n",
            "[150]\ttrain-error:0.144028\tvalid-error:0.130817\ttrain-gini:0.856285\tvalid-gini:0.892296\n",
            "[200]\ttrain-error:0.132066\tvalid-error:0.124386\ttrain-gini:0.871949\tvalid-gini:0.902696\n",
            "[250]\ttrain-error:0.12363\tvalid-error:0.118717\ttrain-gini:0.883776\tvalid-gini:0.911075\n",
            "[300]\ttrain-error:0.116543\tvalid-error:0.115605\ttrain-gini:0.89253\tvalid-gini:0.916142\n",
            "[350]\ttrain-error:0.11115\tvalid-error:0.112909\ttrain-gini:0.89916\tvalid-gini:0.919864\n",
            "[399]\ttrain-error:0.106655\tvalid-error:0.10959\ttrain-gini:0.904639\tvalid-gini:0.922396\n",
            "[Fold 1/3 Prediciton:]\n",
            "[Fold 2/3]\n",
            "[0]\ttrain-error:0.252169\tvalid-error:0.257761\ttrain-gini:0.565957\tvalid-gini:0.55466\n",
            "Multiple eval metrics have been passed: 'valid-gini' will be used for early stopping.\n",
            "\n",
            "Will train until valid-gini hasn't improved in 70 rounds.\n",
            "[50]\ttrain-error:0.164287\tvalid-error:0.177003\ttrain-gini:0.822914\tvalid-gini:0.794372\n",
            "[100]\ttrain-error:0.147243\tvalid-error:0.159925\ttrain-gini:0.855791\tvalid-gini:0.824921\n",
            "[150]\ttrain-error:0.130406\tvalid-error:0.14665\ttrain-gini:0.879263\tvalid-gini:0.846048\n",
            "[200]\ttrain-error:0.120519\tvalid-error:0.139667\ttrain-gini:0.893613\tvalid-gini:0.858026\n",
            "[250]\ttrain-error:0.112636\tvalid-error:0.134205\ttrain-gini:0.90397\tvalid-gini:0.865587\n",
            "[300]\ttrain-error:0.106828\tvalid-error:0.128535\ttrain-gini:0.912051\tvalid-gini:0.871261\n",
            "[350]\ttrain-error:0.101366\tvalid-error:0.125631\ttrain-gini:0.917751\tvalid-gini:0.874496\n",
            "[399]\ttrain-error:0.097321\tvalid-error:0.124317\ttrain-gini:0.922569\tvalid-gini:0.877108\n",
            "[Fold 2/3 Prediciton:]\n",
            "[Fold 3/3]\n",
            "[0]\ttrain-error:0.244935\tvalid-error:0.284124\ttrain-gini:0.606989\tvalid-gini:0.513018\n",
            "Multiple eval metrics have been passed: 'valid-gini' will be used for early stopping.\n",
            "\n",
            "Will train until valid-gini hasn't improved in 70 rounds.\n",
            "[50]\ttrain-error:0.154601\tvalid-error:0.202462\ttrain-gini:0.838669\tvalid-gini:0.751523\n",
            "[100]\ttrain-error:0.135138\tvalid-error:0.185936\ttrain-gini:0.869409\tvalid-gini:0.784238\n",
            "[150]\ttrain-error:0.121863\tvalid-error:0.173143\ttrain-gini:0.892066\tvalid-gini:0.809427\n",
            "[200]\ttrain-error:0.110835\tvalid-error:0.162702\ttrain-gini:0.906414\tvalid-gini:0.824495\n",
            "[250]\ttrain-error:0.10392\tvalid-error:0.156548\ttrain-gini:0.915704\tvalid-gini:0.83334\n",
            "[300]\ttrain-error:0.09749\tvalid-error:0.151777\ttrain-gini:0.922481\tvalid-gini:0.839758\n",
            "[350]\ttrain-error:0.091924\tvalid-error:0.149634\ttrain-gini:0.927895\tvalid-gini:0.843868\n",
            "[399]\ttrain-error:0.089297\tvalid-error:0.148527\ttrain-gini:0.932315\tvalid-gini:0.846459\n",
            "[Fold 3/3 Prediciton:]\n"
          ],
          "name": "stdout"
        }
      ]
    },
    {
      "cell_type": "code",
      "metadata": {
        "id": "-K9Kn3o_uzdw",
        "colab_type": "code",
        "colab": {}
      },
      "source": [
        "# sub.to_csv('StratifiedKFold_v2.csv', index=False)"
      ],
      "execution_count": 0,
      "outputs": []
    },
    {
      "cell_type": "code",
      "metadata": {
        "id": "p8vu0GUN7YVq",
        "colab_type": "code",
        "colab": {}
      },
      "source": [
        "# mdl.save_model('xgb_model.model')"
      ],
      "execution_count": 0,
      "outputs": []
    },
    {
      "cell_type": "code",
      "metadata": {
        "id": "dl8QAf8c70HF",
        "colab_type": "code",
        "outputId": "bac54797-c7ff-4c76-d011-4f7fff20f23d",
        "colab": {
          "base_uri": "https://localhost:8080/",
          "height": 35
        }
      },
      "source": [
        "!pip install joblib"
      ],
      "execution_count": 0,
      "outputs": [
        {
          "output_type": "stream",
          "text": [
            "Requirement already satisfied: joblib in /usr/local/lib/python3.6/dist-packages (0.14.1)\n"
          ],
          "name": "stdout"
        }
      ]
    },
    {
      "cell_type": "code",
      "metadata": {
        "id": "xLmzrrRJ747k",
        "colab_type": "code",
        "colab": {}
      },
      "source": [
        "from joblib import dump\n",
        "from joblib import load"
      ],
      "execution_count": 0,
      "outputs": []
    },
    {
      "cell_type": "code",
      "metadata": {
        "id": "qtjl_y1957kz",
        "colab_type": "code",
        "outputId": "222a3e9d-3615-45b0-9498-bf07e2f966b8",
        "colab": {
          "base_uri": "https://localhost:8080/",
          "height": 35
        }
      },
      "source": [
        "# save model to file\n",
        "dump(mdl, \"xgb_model.joblib.dat\")"
      ],
      "execution_count": 0,
      "outputs": [
        {
          "output_type": "execute_result",
          "data": {
            "text/plain": [
              "['xgb_model.joblib.dat']"
            ]
          },
          "metadata": {
            "tags": []
          },
          "execution_count": 42
        }
      ]
    },
    {
      "cell_type": "code",
      "metadata": {
        "id": "7u5kEDN78T6U",
        "colab_type": "code",
        "colab": {}
      },
      "source": [
        "import pickle\n",
        "pickle.dump(mdl, open(\"xgb_model.pickle.dat\", \"wb\"))"
      ],
      "execution_count": 0,
      "outputs": []
    },
    {
      "cell_type": "markdown",
      "metadata": {
        "id": "AEWKERlV4uu5",
        "colab_type": "text"
      },
      "source": [
        "### Evaluate"
      ]
    },
    {
      "cell_type": "code",
      "metadata": {
        "id": "bvn2IYJC_YXw",
        "colab_type": "code",
        "colab": {}
      },
      "source": [
        "mdl = xgb.Booster({'nthread': 4})  # init model\n",
        "mdl.load_model('xgb_model.model')  # load data"
      ],
      "execution_count": 0,
      "outputs": []
    },
    {
      "cell_type": "code",
      "metadata": {
        "id": "bxsmcVEP5NXU",
        "colab_type": "code",
        "colab": {}
      },
      "source": [
        "from sklearn.metrics import roc_auc_score\n",
        "from sklearn.metrics import confusion_matrix\n",
        "from sklearn.metrics import accuracy_score"
      ],
      "execution_count": 0,
      "outputs": []
    },
    {
      "cell_type": "code",
      "metadata": {
        "id": "0KGhxbVL8szv",
        "colab_type": "code",
        "colab": {}
      },
      "source": [
        "# Get the predictions\n",
        "train_data = xgb.DMatrix(X, y)\n",
        "p_train = mdl.predict(train_data\n",
        "                      # , ntree_limit=mdl.best_ntree_limit\n",
        "                      )"
      ],
      "execution_count": 0,
      "outputs": []
    },
    {
      "cell_type": "code",
      "metadata": {
        "id": "ga7w9BLl8xMQ",
        "colab_type": "code",
        "outputId": "62aa8bec-3f60-49ed-926d-cb7739026bee",
        "colab": {
          "base_uri": "https://localhost:8080/",
          "height": 35
        }
      },
      "source": [
        "np.shape(p_train)"
      ],
      "execution_count": 0,
      "outputs": [
        {
          "output_type": "execute_result",
          "data": {
            "text/plain": [
              "(595212,)"
            ]
          },
          "metadata": {
            "tags": []
          },
          "execution_count": 33
        }
      ]
    },
    {
      "cell_type": "code",
      "metadata": {
        "id": "eXmLU6va86OV",
        "colab_type": "code",
        "outputId": "1db5730c-410b-4122-91f9-b44e29dd35f5",
        "colab": {
          "base_uri": "https://localhost:8080/",
          "height": 52
        }
      },
      "source": [
        "p_train"
      ],
      "execution_count": 0,
      "outputs": [
        {
          "output_type": "execute_result",
          "data": {
            "text/plain": [
              "array([0.9781773 , 0.7990536 , 0.9722515 , ..., 0.6769186 , 0.87357366,\n",
              "       0.80261695], dtype=float32)"
            ]
          },
          "metadata": {
            "tags": []
          },
          "execution_count": 34
        }
      ]
    },
    {
      "cell_type": "code",
      "metadata": {
        "id": "AoCrBalv-MRT",
        "colab_type": "code",
        "colab": {}
      },
      "source": [
        "predictions_train = np.zeros(len(y))"
      ],
      "execution_count": 0,
      "outputs": []
    },
    {
      "cell_type": "code",
      "metadata": {
        "id": "PW6y91TI-ORX",
        "colab_type": "code",
        "outputId": "097d1d08-e262-4d11-de71-6c079df755b7",
        "colab": {
          "base_uri": "https://localhost:8080/",
          "height": 35
        }
      },
      "source": [
        "np.shape(predictions_train)"
      ],
      "execution_count": 0,
      "outputs": [
        {
          "output_type": "execute_result",
          "data": {
            "text/plain": [
              "(595212,)"
            ]
          },
          "metadata": {
            "tags": []
          },
          "execution_count": 36
        }
      ]
    },
    {
      "cell_type": "code",
      "metadata": {
        "id": "Tu4i7NwQ9ElN",
        "colab_type": "code",
        "colab": {}
      },
      "source": [
        "predictions_train = np.zeros(len(y))\n",
        "for i in range(len(predictions_train)):\n",
        "  if p_train[i] >= 0.5:\n",
        "    predictions_train[i] = 1 "
      ],
      "execution_count": 0,
      "outputs": []
    },
    {
      "cell_type": "code",
      "metadata": {
        "id": "tUTNBD5h-Y0V",
        "colab_type": "code",
        "outputId": "93be9894-20f8-4fc2-bc80-d02ae53db6e3",
        "colab": {
          "base_uri": "https://localhost:8080/",
          "height": 35
        }
      },
      "source": [
        "np.sum(predictions_train)"
      ],
      "execution_count": 0,
      "outputs": [
        {
          "output_type": "execute_result",
          "data": {
            "text/plain": [
              "479067.0"
            ]
          },
          "metadata": {
            "tags": []
          },
          "execution_count": 38
        }
      ]
    },
    {
      "cell_type": "code",
      "metadata": {
        "id": "Ih1O-dZj2DcT",
        "colab_type": "code",
        "outputId": "c7679586-09f3-499a-e665-928630d92bb6",
        "colab": {
          "base_uri": "https://localhost:8080/",
          "height": 141
        }
      },
      "source": [
        "\n",
        "\n",
        "print('Train Set auc: {}'.format(roc_auc_score(y, p_train)))\n",
        "print('Train Set accuracy: {}'.format(accuracy_score(y, predictions_train)))\n",
        "print()\n",
        "\n",
        "print('')\n",
        "print('Train Set Confusion matrix:')\n",
        "print(confusion_matrix(y, predictions_train))\n",
        "\n"
      ],
      "execution_count": 0,
      "outputs": [
        {
          "output_type": "stream",
          "text": [
            "Train Set auc: 0.5726974055353509\n",
            "Train Set accuracy: 0.22193940982372667\n",
            "\n",
            "\n",
            "Train Set Confusion matrix:\n",
            "[[113276 460242]\n",
            " [  2869  18825]]\n"
          ],
          "name": "stdout"
        }
      ]
    },
    {
      "cell_type": "markdown",
      "metadata": {
        "id": "1d2Pe90qNSe-",
        "colab_type": "text"
      },
      "source": [
        "## XGB Classifier with Stratified Kfold and Gridsearch for the best pos_scale"
      ]
    },
    {
      "cell_type": "code",
      "metadata": {
        "id": "bDTo_mvGPxBO",
        "colab_type": "code",
        "colab": {}
      },
      "source": [
        "from sklearn.model_selection import GridSearchCV\n",
        "from sklearn.model_selection import RepeatedStratifiedKFold"
      ],
      "execution_count": 0,
      "outputs": []
    },
    {
      "cell_type": "code",
      "metadata": {
        "id": "d89JLwgUNcE1",
        "colab_type": "code",
        "colab": {}
      },
      "source": [
        "clf = xgb.XGBClassifier(\n",
        "    min_child_weight = 10.0,\n",
        "    objective= 'binary:logistic',\n",
        "    max_depth = 10,\n",
        "    max_delta_step= 1.8,\n",
        "    colsample_bytree=0.4,\n",
        "    subsample=0.8,\n",
        "    eta=0.025,\n",
        "    gamma=0.65,\n",
        "    num_boost_round=500,\n",
        "    nthread = -1,\n",
        "    tree_method = 'gpu_hist'\n",
        ")"
      ],
      "execution_count": 0,
      "outputs": []
    },
    {
      "cell_type": "code",
      "metadata": {
        "id": "on8TL6RRNcBt",
        "colab_type": "code",
        "colab": {}
      },
      "source": [
        "param_grid = {\n",
        "    'scale_pos_weight' : [10, 20, scale_pos_weight, 40]\n",
        "}"
      ],
      "execution_count": 0,
      "outputs": []
    },
    {
      "cell_type": "code",
      "metadata": {
        "id": "gVBVjHJNNb-y",
        "colab_type": "code",
        "colab": {}
      },
      "source": [
        "cv = RepeatedStratifiedKFold(n_splits=3, n_repeats=2, random_state=0)"
      ],
      "execution_count": 0,
      "outputs": []
    },
    {
      "cell_type": "code",
      "metadata": {
        "id": "J8Cl1obGNbty",
        "colab_type": "code",
        "outputId": "886370ce-60e6-4504-9772-d79187fd6769",
        "colab": {
          "base_uri": "https://localhost:8080/",
          "height": 1000
        }
      },
      "source": [
        "grid_search_xgb = GridSearchCV(clf, param_grid=param_grid, scoring='roc_auc', verbose=100)\n",
        "grid_result = grid_search_xgb.fit(X=X, y=y)\n",
        "grid_result.best_params_"
      ],
      "execution_count": 0,
      "outputs": [
        {
          "output_type": "stream",
          "text": [
            "Fitting 5 folds for each of 4 candidates, totalling 20 fits\n",
            "[Parallel(n_jobs=1)]: Using backend SequentialBackend with 1 concurrent workers.\n",
            "[CV] scale_pos_weight=10 .............................................\n",
            "[CV] ................. scale_pos_weight=10, score=0.608, total=   6.7s\n",
            "[Parallel(n_jobs=1)]: Done   1 out of   1 | elapsed:    6.7s remaining:    0.0s\n",
            "[CV] scale_pos_weight=10 .............................................\n",
            "[CV] ................. scale_pos_weight=10, score=0.605, total=   6.5s\n",
            "[Parallel(n_jobs=1)]: Done   2 out of   2 | elapsed:   13.2s remaining:    0.0s\n",
            "[CV] scale_pos_weight=10 .............................................\n",
            "[CV] ................. scale_pos_weight=10, score=0.606, total=   6.5s\n",
            "[Parallel(n_jobs=1)]: Done   3 out of   3 | elapsed:   19.8s remaining:    0.0s\n",
            "[CV] scale_pos_weight=10 .............................................\n",
            "[CV] ................. scale_pos_weight=10, score=0.614, total=   6.5s\n",
            "[Parallel(n_jobs=1)]: Done   4 out of   4 | elapsed:   26.3s remaining:    0.0s\n",
            "[CV] scale_pos_weight=10 .............................................\n",
            "[CV] ................. scale_pos_weight=10, score=0.605, total=   6.6s\n",
            "[Parallel(n_jobs=1)]: Done   5 out of   5 | elapsed:   32.9s remaining:    0.0s\n",
            "[CV] scale_pos_weight=20 .............................................\n",
            "[CV] ................. scale_pos_weight=20, score=0.594, total=   6.6s\n",
            "[Parallel(n_jobs=1)]: Done   6 out of   6 | elapsed:   39.6s remaining:    0.0s\n",
            "[CV] scale_pos_weight=20 .............................................\n",
            "[CV] ................. scale_pos_weight=20, score=0.596, total=   6.6s\n",
            "[Parallel(n_jobs=1)]: Done   7 out of   7 | elapsed:   46.2s remaining:    0.0s\n",
            "[CV] scale_pos_weight=20 .............................................\n",
            "[CV] ................. scale_pos_weight=20, score=0.596, total=   6.5s\n",
            "[Parallel(n_jobs=1)]: Done   8 out of   8 | elapsed:   52.7s remaining:    0.0s\n",
            "[CV] scale_pos_weight=20 .............................................\n",
            "[CV] ................. scale_pos_weight=20, score=0.599, total=   6.5s\n",
            "[Parallel(n_jobs=1)]: Done   9 out of   9 | elapsed:   59.2s remaining:    0.0s\n",
            "[CV] scale_pos_weight=20 .............................................\n",
            "[CV] ................. scale_pos_weight=20, score=0.589, total=   6.6s\n",
            "[Parallel(n_jobs=1)]: Done  10 out of  10 | elapsed:  1.1min remaining:    0.0s\n",
            "[CV] scale_pos_weight=26.43671061122891 ..............................\n",
            "[CV] .. scale_pos_weight=26.43671061122891, score=0.592, total=   6.4s\n",
            "[Parallel(n_jobs=1)]: Done  11 out of  11 | elapsed:  1.2min remaining:    0.0s\n",
            "[CV] scale_pos_weight=26.43671061122891 ..............................\n",
            "[CV] .. scale_pos_weight=26.43671061122891, score=0.592, total=   6.5s\n",
            "[Parallel(n_jobs=1)]: Done  12 out of  12 | elapsed:  1.3min remaining:    0.0s\n",
            "[CV] scale_pos_weight=26.43671061122891 ..............................\n",
            "[CV] .. scale_pos_weight=26.43671061122891, score=0.588, total=   6.4s\n",
            "[Parallel(n_jobs=1)]: Done  13 out of  13 | elapsed:  1.4min remaining:    0.0s\n",
            "[CV] scale_pos_weight=26.43671061122891 ..............................\n",
            "[CV] .. scale_pos_weight=26.43671061122891, score=0.597, total=   6.4s\n",
            "[Parallel(n_jobs=1)]: Done  14 out of  14 | elapsed:  1.5min remaining:    0.0s\n",
            "[CV] scale_pos_weight=26.43671061122891 ..............................\n",
            "[CV] .. scale_pos_weight=26.43671061122891, score=0.586, total=   6.6s\n",
            "[Parallel(n_jobs=1)]: Done  15 out of  15 | elapsed:  1.6min remaining:    0.0s\n",
            "[CV] scale_pos_weight=40 .............................................\n",
            "[CV] ................. scale_pos_weight=40, score=0.581, total=   6.5s\n",
            "[Parallel(n_jobs=1)]: Done  16 out of  16 | elapsed:  1.7min remaining:    0.0s\n",
            "[CV] scale_pos_weight=40 .............................................\n",
            "[CV] ................. scale_pos_weight=40, score=0.584, total=   6.4s\n",
            "[Parallel(n_jobs=1)]: Done  17 out of  17 | elapsed:  1.9min remaining:    0.0s\n",
            "[CV] scale_pos_weight=40 .............................................\n",
            "[CV] ................. scale_pos_weight=40, score=0.584, total=   6.4s\n",
            "[Parallel(n_jobs=1)]: Done  18 out of  18 | elapsed:  2.0min remaining:    0.0s\n",
            "[CV] scale_pos_weight=40 .............................................\n",
            "[CV] ................. scale_pos_weight=40, score=0.592, total=   6.3s\n",
            "[Parallel(n_jobs=1)]: Done  19 out of  19 | elapsed:  2.1min remaining:    0.0s\n",
            "[CV] scale_pos_weight=40 .............................................\n",
            "[CV] ................. scale_pos_weight=40, score=0.579, total=   6.5s\n",
            "[Parallel(n_jobs=1)]: Done  20 out of  20 | elapsed:  2.2min remaining:    0.0s\n",
            "[Parallel(n_jobs=1)]: Done  20 out of  20 | elapsed:  2.2min finished\n"
          ],
          "name": "stdout"
        },
        {
          "output_type": "execute_result",
          "data": {
            "text/plain": [
              "{'scale_pos_weight': 10}"
            ]
          },
          "metadata": {
            "tags": []
          },
          "execution_count": 61
        }
      ]
    },
    {
      "cell_type": "code",
      "metadata": {
        "id": "9422KC95VHZp",
        "colab_type": "code",
        "outputId": "c341fb2e-3545-4834-b47c-bfe0eeb91f77",
        "colab": {
          "base_uri": "https://localhost:8080/",
          "height": 35
        }
      },
      "source": [
        "grid_search_xgb.best_params_"
      ],
      "execution_count": 0,
      "outputs": [
        {
          "output_type": "execute_result",
          "data": {
            "text/plain": [
              "{'scale_pos_weight': 10}"
            ]
          },
          "metadata": {
            "tags": []
          },
          "execution_count": 62
        }
      ]
    },
    {
      "cell_type": "markdown",
      "metadata": {
        "id": "ViRkxSF_2Vpc",
        "colab_type": "text"
      },
      "source": [
        "# QUESTIONS\n",
        "\n",
        "\n",
        "\n",
        "*   Why stratified Kfold is better than just training with more iterations or ensample different models?\n",
        "\n"
      ]
    },
    {
      "cell_type": "markdown",
      "metadata": {
        "id": "DTGAxdlT4IFv",
        "colab_type": "text"
      },
      "source": [
        "# ToDos\n",
        "\n",
        "\n",
        "*   Try with balancing techniques\n",
        "*   Examine and try different hyperparameters\n"
      ]
    },
    {
      "cell_type": "code",
      "metadata": {
        "id": "CkO_VFax2jzC",
        "colab_type": "code",
        "colab": {}
      },
      "source": [
        ""
      ],
      "execution_count": 0,
      "outputs": []
    }
  ]
}